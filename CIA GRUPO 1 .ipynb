{
 "cells": [
  {
   "cell_type": "code",
   "execution_count": 4,
   "id": "a97f41a4",
   "metadata": {},
   "outputs": [],
   "source": [
    "import pandas as pd\n",
    "import matplotlib.pyplot as plt\n",
    "import seaborn as sns"
   ]
  },
  {
   "attachments": {},
   "cell_type": "markdown",
   "id": "b5748cc9",
   "metadata": {},
   "source": [
    "# Prueba"
   ]
  },
  {
   "attachments": {},
   "cell_type": "markdown",
   "id": "f0de026c",
   "metadata": {},
   "source": [
    "Vamos a ver si esto funciona    \n"
   ]
  },
  {
   "attachments": {},
   "cell_type": "markdown",
   "id": "a9cb747c",
   "metadata": {},
   "source": [
    "Prueba de miu"
   ]
  },
  {
   "cell_type": "code",
   "execution_count": 1,
   "id": "8447e71c",
   "metadata": {},
   "outputs": [],
   "source": [
    "import numpy as np"
   ]
  },
  {
   "attachments": {},
   "cell_type": "markdown",
   "id": "2e45df38",
   "metadata": {},
   "source": [
    "Se agrega funcion para tal cosa"
   ]
  },
  {
   "attachments": {},
   "cell_type": "markdown",
   "id": "666e9d74",
   "metadata": {},
   "source": [
    "Esto es para la prueba de Bryan"
   ]
  },
  {
   "attachments": {},
   "cell_type": "markdown",
   "id": "32b1c5c3",
   "metadata": {},
   "source": [
    "Ultima prueba"
   ]
  }
 ],
 "metadata": {
  "kernelspec": {
   "display_name": "Python 3 (ipykernel)",
   "language": "python",
   "name": "python3"
  },
  "language_info": {
   "codemirror_mode": {
    "name": "ipython",
    "version": 3
   },
   "file_extension": ".py",
   "mimetype": "text/x-python",
   "name": "python",
   "nbconvert_exporter": "python",
   "pygments_lexer": "ipython3",
   "version": "3.11.0"
  }
 },
 "nbformat": 4,
 "nbformat_minor": 5
}
