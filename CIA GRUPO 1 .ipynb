{
 "cells": [
  {
   "cell_type": "code",
   "execution_count": 4,
   "id": "a97f41a4",
   "metadata": {},
   "outputs": [],
   "source": [
    "import pandas as pd\n",
    "import matplotlib.pyplot as plt\n",
    "import seaborn as sns"
   ]
  },
  {
   "attachments": {},
   "cell_type": "markdown",
   "id": "b5748cc9",
   "metadata": {},
   "source": [
    "# Prueba"
   ]
  },
  {
   "attachments": {},
   "cell_type": "markdown",
   "id": "f0de026c",
   "metadata": {},
   "source": [
    "Vamos a ver si esto funciona    \n"
   ]
  },
  {
   "cell_type": "code",
   "execution_count": 1,
   "id": "8447e71c",
   "metadata": {},
   "outputs": [],
   "source": [
    "import numpy as np"
   ]
  },
  {
   "attachments": {},
   "cell_type": "markdown",
   "id": "666e9d74",
   "metadata": {},
   "source": [
    "Esto es para la prueba de Bryan"
   ]
  }
 ],
 "metadata": {
  "kernelspec": {
   "display_name": "Python 3 (ipykernel)",
   "language": "python",
   "name": "python3"
  },
  "language_info": {
   "codemirror_mode": {
    "name": "ipython",
    "version": 3
   },
   "file_extension": ".py",
   "mimetype": "text/x-python",
   "name": "python",
   "nbconvert_exporter": "python",
   "pygments_lexer": "ipython3",
   "version": "3.11.0"
  }
 },
 "nbformat": 4,
 "nbformat_minor": 5
}
